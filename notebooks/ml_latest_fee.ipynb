{
 "cells": [
  {
   "cell_type": "code",
   "execution_count": 1,
   "id": "d4f73028-9f83-4564-97d1-f27a96484f57",
   "metadata": {},
   "outputs": [
    {
     "name": "stdout",
     "output_type": "stream",
     "text": [
      "Spark: 3.5.0\n"
     ]
    }
   ],
   "source": [
    "# 1) Spark session + JDBC\n",
    "from pyspark.sql import SparkSession\n",
    "import pyspark.sql.functions as F\n",
    "from pyspark.sql import Window\n",
    "\n",
    "spark = (\n",
    "    SparkSession.builder\n",
    "    .appName(\"Transfermarkt ML - latest_fee\")\n",
    "    .config(\"spark.sql.session.timeZone\", \"UTC\")\n",
    "    .config(\"spark.jars.packages\",\n",
    "            \"org.apache.hadoop:hadoop-aws:3.3.4,\"\n",
    "            \"com.amazonaws:aws-java-sdk-bundle:1.12.262,\"\n",
    "            \"org.postgresql:postgresql:42.7.3\")\n",
    "    .getOrCreate()\n",
    ")\n",
    "\n",
    "jdbc_url = \"jdbc:postgresql://postgres:5432/metastore\"\n",
    "jdbc_props = {\"user\": \"hive\", \"password\": \"metastore\", \"driver\": \"org.postgresql.Driver\"}\n",
    "print(\"Spark:\", spark.version)\n"
   ]
  },
  {
   "cell_type": "code",
   "execution_count": 2,
   "id": "e62c0302-51de-4afc-950b-b7f4a086db01",
   "metadata": {},
   "outputs": [
    {
     "name": "stdout",
     "output_type": "stream",
     "text": [
      "Base rows: 32601\n",
      "root\n",
      " |-- player_key: integer (nullable = true)\n",
      " |-- name: string (nullable = true)\n",
      " |-- position: string (nullable = true)\n",
      " |-- age: integer (nullable = true)\n",
      " |-- goals: long (nullable = true)\n",
      " |-- assists: long (nullable = true)\n",
      " |-- minutes_played: long (nullable = true)\n",
      " |-- goals_per90: decimal(38,18) (nullable = true)\n",
      " |-- assists_per90: decimal(38,18) (nullable = true)\n",
      " |-- latest_fee: double (nullable = true)\n",
      " |-- latest_season: string (nullable = true)\n",
      " |-- club_to_key: integer (nullable = true)\n",
      " |-- club_from_key: integer (nullable = true)\n",
      "\n"
     ]
    }
   ],
   "source": [
    "# 2) Tạo base dataset: per-player features + latest transfer\n",
    "sql_base = \"\"\"\n",
    "WITH latest_tx AS (\n",
    "  SELECT\n",
    "    ft.player_key,\n",
    "    ft.fee,\n",
    "    ft.transfer_date,\n",
    "    ft.club_to_key,\n",
    "    ft.club_from_key,\n",
    "    ft.season,\n",
    "    ROW_NUMBER() OVER (\n",
    "      PARTITION BY ft.player_key\n",
    "      ORDER BY ft.transfer_date DESC NULLS LAST, ft.fee DESC\n",
    "    ) rn\n",
    "  FROM public.fact_transfers ft\n",
    "),\n",
    "perf_agg AS (\n",
    "  SELECT\n",
    "    fp.player_key,\n",
    "    COALESCE(SUM(fp.goals), 0)            AS goals,\n",
    "    COALESCE(SUM(fp.assists), 0)          AS assists,\n",
    "    COALESCE(SUM(fp.minutes_played), 0)   AS minutes_played\n",
    "  FROM public.fact_performance fp\n",
    "  GROUP BY fp.player_key\n",
    ")\n",
    "SELECT\n",
    "  dp.player_key,\n",
    "  dp.name,\n",
    "  dp.position,\n",
    "  dp.age,\n",
    "  pa.goals,\n",
    "  pa.assists,\n",
    "  pa.minutes_played,\n",
    "  CASE WHEN pa.minutes_played > 0 THEN pa.goals   * 90.0 / pa.minutes_played END AS goals_per90,\n",
    "  CASE WHEN pa.minutes_played > 0 THEN pa.assists * 90.0 / pa.minutes_played END AS assists_per90,\n",
    "  lt.fee        AS latest_fee,\n",
    "  lt.season     AS latest_season,\n",
    "  lt.club_to_key,\n",
    "  lt.club_from_key\n",
    "FROM public.dim_players dp\n",
    "LEFT JOIN perf_agg  pa ON dp.player_key = pa.player_key\n",
    "LEFT JOIN latest_tx lt ON dp.player_key = lt.player_key AND lt.rn = 1\n",
    "\"\"\"\n",
    "\n",
    "# Spark hỗ trợ option(\"query\", ...) (Spark 3+). Nếu bản bạn không hỗ trợ, dùng dbtable=\"( ... ) t\".\n",
    "base_df = (spark.read.format(\"jdbc\")\n",
    "           .option(\"url\", jdbc_url)\n",
    "           .option(\"query\", sql_base)\n",
    "           .options(**jdbc_props)\n",
    "           .load())\n",
    "\n",
    "print(\"Base rows:\", base_df.count())\n",
    "base_df.printSchema()\n"
   ]
  },
  {
   "cell_type": "code",
   "execution_count": 3,
   "id": "5b73e417-97f3-4bec-a7bd-557bff0724e7",
   "metadata": {},
   "outputs": [],
   "source": [
    "# 3) Clean: lọc cầu thủ có mẫu đủ lớn, fee > 0; điền Null -> 0 cho per90\n",
    "df = (base_df\n",
    "  \t.filter((F.col(\"minutes_played\") >= 900) & (F.col(\"latest_fee\").isNotNull()) & (F.col(\"latest_fee\") > 0))\n",
    "  \t.fillna({\"goals_per90\": 0.0, \"assists_per90\": 0.0})\n",
    " \t)\n",
    " \n",
    "# Đặc trưng bổ sung từ insight BI\n",
    "df = df.withColumn(\"age_sq\", F.col(\"age\") * F.col(\"age\")) \\\n",
    "   \t.withColumn(\"age_x_goals90\", F.col(\"age\") * F.col(\"goals_per90\"))\n"
   ]
  },
  {
   "cell_type": "code",
   "execution_count": 5,
   "id": "abd02538-ed5c-406d-b4b4-f903f5bb6297",
   "metadata": {},
   "outputs": [],
   "source": [
    "# 4) Tính prestige: tổng chi (mua) & tổng thu (bán) theo CLB\n",
    "\n",
    "# Đọc bảng transfers\n",
    "ft = spark.read.format(\"jdbc\") \\\n",
    "    .option(\"url\", jdbc_url) \\\n",
    "    .options(**jdbc_props) \\\n",
    "    .option(\"dbtable\", \"public.fact_transfers\") \\\n",
    "    .load()\n",
    "\n",
    "# buyers: club_to_key -> spend_total, buys\n",
    "buyers = ft.where(F.col(\"fee\") > 0) \\\n",
    "    .groupBy(\"club_to_key\") \\\n",
    "    .agg(\n",
    "        F.sum(\"fee\").alias(\"spend_total\"),\n",
    "        F.count(\"*\").alias(\"buys\")\n",
    "    ) \\\n",
    "    .withColumnRenamed(\"club_to_key\", \"club_key_buy\")\n",
    "\n",
    "# sellers: club_from_key -> revenue_total, sells\n",
    "sellers = ft.where(F.col(\"fee\") > 0) \\\n",
    "    .groupBy(\"club_from_key\") \\\n",
    "    .agg(\n",
    "        F.sum(\"fee\").alias(\"revenue_total\"),\n",
    "        F.count(\"*\").alias(\"sells\")\n",
    "    ) \\\n",
    "    .withColumnRenamed(\"club_from_key\", \"club_key_sell\")\n",
    "\n",
    "# full_outer join theo key tương đương\n",
    "prestige = buyers.join(\n",
    "    sellers,\n",
    "    buyers.club_key_buy == sellers.club_key_sell,\n",
    "    \"full_outer\"\n",
    ").select(\n",
    "    # Lấy club key thống nhất\n",
    "    F.coalesce(buyers.club_key_buy, sellers.club_key_sell).alias(\"club_key\"),\n",
    "\n",
    "    # Lấy spend_total, nếu null thì 0\n",
    "    F.coalesce(buyers.spend_total, F.lit(0.0)).alias(\"spend_total\"),\n",
    "    F.coalesce(buyers.buys, F.lit(0)).alias(\"buys\"),\n",
    "\n",
    "    # Lấy revenue_total, nếu null thì 0\n",
    "    F.coalesce(sellers.revenue_total, F.lit(0.0)).alias(\"revenue_total\"),\n",
    "    F.coalesce(sellers.sells, F.lit(0)).alias(\"sells\")\n",
    ")\n",
    "\n",
    "# 5) Min-max scaling\n",
    "stats = prestige.agg(\n",
    "    F.min(\"spend_total\").alias(\"min_sp\"),\n",
    "    F.max(\"spend_total\").alias(\"max_sp\"),\n",
    "    F.min(\"revenue_total\").alias(\"min_rev\"),\n",
    "    F.max(\"revenue_total\").alias(\"max_rev\")\n",
    ").collect()[0]\n",
    "\n",
    "min_sp, max_sp = stats[\"min_sp\"], stats[\"max_sp\"]\n",
    "min_rev, max_rev = stats[\"min_rev\"], stats[\"max_rev\"]\n",
    "\n",
    "prestige = prestige \\\n",
    "    .withColumn(\n",
    "        \"prestige_buy\",\n",
    "        F.when(F.lit(max_sp) == F.lit(min_sp), F.lit(0.0))\n",
    "         .otherwise((F.col(\"spend_total\") - F.lit(min_sp)) / F.lit(max_sp - min_sp))\n",
    "    ) \\\n",
    "    .withColumn(\n",
    "        \"prestige_sell\",\n",
    "        F.when(F.lit(max_rev) == F.lit(min_rev), F.lit(0.0))\n",
    "         .otherwise((F.col(\"revenue_total\") - F.lit(min_rev)) / F.lit(max_rev - min_rev))\n",
    "    ) \\\n",
    "    .withColumn(\n",
    "        \"prestige_overall\",\n",
    "        0.7 * F.col(\"prestige_buy\") + 0.3 * F.col(\"prestige_sell\")\n",
    "    )\n",
    "\n",
    "# 6) Join vào df chính theo club_to_key\n",
    "df = df.join(\n",
    "    prestige.select(\"club_key\", \"prestige_overall\"),\n",
    "    df.club_to_key == prestige.club_key,\n",
    "    \"left\"\n",
    ").drop(\"club_key\")\n",
    "\n",
    "# Nếu prestige_overall null -> 0\n",
    "df = df.fillna({\"prestige_overall\": 0.0})\n"
   ]
  },
  {
   "cell_type": "code",
   "execution_count": null,
   "id": "492cf866-b421-4884-a665-4799c39bf772",
   "metadata": {},
   "outputs": [],
   "source": []
  },
  {
   "cell_type": "code",
   "execution_count": 7,
   "id": "1b12de0e-aa15-4bb6-982e-7f5e1a7b262f",
   "metadata": {},
   "outputs": [
    {
     "name": "stdout",
     "output_type": "stream",
     "text": [
      "LR  R2 (log): 0.3141569403030172\n",
      "LR RMSE(log): 1.333572588645431\n",
      "RF  R2 (log): 0.30167910019903155\n",
      "RF RMSE(log): 1.3456490403108199\n",
      "LR RMSE (fee gốc): 13939933.2833905\n",
      "RF RMSE (fee gốc): 12765062.241278186\n"
     ]
    }
   ],
   "source": [
    "from pyspark.ml.feature import StringIndexer, OneHotEncoder, VectorAssembler\n",
    "from pyspark.ml.regression import LinearRegression, RandomForestRegressor\n",
    "from pyspark.ml import Pipeline\n",
    "from pyspark.ml.evaluation import RegressionEvaluator\n",
    " \n",
    "# 5) Column chọn làm feature\n",
    "num_feats = [\"age\", \"age_sq\", \"goals_per90\", \"assists_per90\", \"minutes_played\",\n",
    "         \t\"prestige_overall\", \"age_x_goals90\"]\n",
    "cat_feat  = \"position\"   # one-hot\n",
    " \n",
    "# 6) Encode position\n",
    "idx = StringIndexer(inputCol=cat_feat, outputCol=f\"{cat_feat}_idx\", handleInvalid=\"keep\")\n",
    "ohe = OneHotEncoder(inputCols=[f\"{cat_feat}_idx\"], outputCols=[f\"{cat_feat}_ohe\"], dropLast=True)\n",
    " \n",
    "# 7) Assemble vector (định nghĩa, chưa chạy)\n",
    "assembler = VectorAssembler(\n",
    "    inputCols=num_feats + [f\"{cat_feat}_ohe\"],\n",
    "    outputCol=\"features\",\n",
    "    handleInvalid=\"keep\"\n",
    ")\n",
    "\n",
    "# 8) Tạo cột label (log1p)\n",
    "df_ml = df.withColumn(\"label\", F.log1p(\"latest_fee\"))\n",
    "\n",
    "# 9) Chia tập\n",
    "train_df, test_df = df_ml.randomSplit([0.8, 0.2], seed=42)\n",
    "\n",
    "# 10) Models\n",
    "lr = LinearRegression(featuresCol=\"features\", labelCol=\"label\", elasticNetParam=0.2, regParam=0.05, standardization=True)\n",
    "rf = RandomForestRegressor(featuresCol=\"features\", labelCol=\"label\", numTrees=200, maxDepth=10, seed=42)\n",
    "\n",
    "# 11) Pipelines\n",
    "pipe_lr = Pipeline(stages=[idx, ohe, assembler, lr])\n",
    "pipe_rf = Pipeline(stages=[idx, ohe, assembler, rf])\n",
    "\n",
    "# 12) Train\n",
    "m_lr = pipe_lr.fit(train_df)\n",
    "m_rf = pipe_rf.fit(train_df)\n",
    " \n",
    "# 13) Predict\n",
    "pred_lr = m_lr.transform(test_df).withColumn(\"pred_fee\", F.expm1(\"prediction\"))\n",
    "pred_rf = m_rf.transform(test_df).withColumn(\"pred_fee\", F.expm1(\"prediction\"))\n",
    " \n",
    "# 14) Evaluate (trên log và fee gốc)\n",
    "ev_r2  = RegressionEvaluator(labelCol=\"label\", predictionCol=\"prediction\", metricName=\"r2\")\n",
    "ev_rmse= RegressionEvaluator(labelCol=\"label\", predictionCol=\"prediction\", metricName=\"rmse\")\n",
    " \n",
    "print(\"LR  R2 (log):\", ev_r2.evaluate(pred_lr))\n",
    "print(\"LR RMSE(log):\", ev_rmse.evaluate(pred_lr))\n",
    "print(\"RF  R2 (log):\", ev_r2.evaluate(pred_rf))\n",
    "print(\"RF RMSE(log):\", ev_rmse.evaluate(pred_rf))\n",
    " \n",
    "# RMSE trên thang phí gốc (ước lượng): tính RMSE của pred_fee vs latest_fee\n",
    "from pyspark.sql.functions import col, pow, sqrt, avg\n",
    "rmse_lr = pred_lr.select(sqrt(avg(pow(col(\"pred_fee\") - col(\"latest_fee\"), 2))).alias(\"rmse_fee\")).first()[\"rmse_fee\"]\n",
    "rmse_rf = pred_rf.select(sqrt(avg(pow(col(\"pred_fee\") - col(\"latest_fee\"), 2))).alias(\"rmse_fee\")).first()[\"rmse_fee\"]\n",
    "print(\"LR RMSE (fee gốc):\", rmse_lr)\n",
    "print(\"RF RMSE (fee gốc):\", rmse_rf)\n"
   ]
  },
  {
   "cell_type": "code",
   "execution_count": 8,
   "id": "0e7c2aac-f35f-44dc-bcfc-41ebe0a3412c",
   "metadata": {},
   "outputs": [
    {
     "name": "stdout",
     "output_type": "stream",
     "text": [
      "LR (CV) R2 (log): 0.3085714180109085\n"
     ]
    }
   ],
   "source": [
    "from pyspark.ml.tuning import ParamGridBuilder, CrossValidator\n",
    " \n",
    "paramGrid = (ParamGridBuilder()\n",
    "         \t.addGrid(lr.regParam, [0.0, 0.01, 0.05, 0.1])\n",
    "         \t.addGrid(lr.elasticNetParam, [0.0, 0.2, 0.5, 0.8, 1.0])  # 0=L2, 1=L1\n",
    "         \t.build())\n",
    " \n",
    "cv = CrossValidator(estimator=pipe_lr,\n",
    "                    estimatorParamMaps=paramGrid,\n",
    "                    evaluator=RegressionEvaluator(labelCol=\"label\", predictionCol=\"prediction\", metricName=\"r2\"),\n",
    "                \tnumFolds=5, parallelism=2)\n",
    " \n",
    "m_lr_cv = cv.fit(train_df)\n",
    "pred_lr_cv = m_lr_cv.transform(test_df).withColumn(\"pred_fee\", F.expm1(\"prediction\"))\n",
    "print(\"LR (CV) R2 (log):\", ev_r2.evaluate(pred_lr_cv))\n"
   ]
  },
  {
   "cell_type": "code",
   "execution_count": 9,
   "id": "80152a81-349d-4da4-8223-673a5d8433f1",
   "metadata": {},
   "outputs": [
    {
     "name": "stdout",
     "output_type": "stream",
     "text": [
      "Intercept: 16.975541851810227\n",
      "Num features: 11\n",
      "age: -0.07245644481358803\n",
      "age_sq: -0.0021296709364196577\n",
      "goals_per90: 1.4469129515582146\n",
      "assists_per90: 1.0043923939592263\n",
      "minutes_played: 0.0001165838782658863\n",
      "prestige_overall: 36.56100424837787\n",
      "age_x_goals90: 0.0\n",
      "position_ohe: 0.06072075192967705\n"
     ]
    }
   ],
   "source": [
    "# Lấy model cuối cùng trong pipeline LR\n",
    "lr_model = m_lr.stages[-1]  # LinearRegressionModel\n",
    "\n",
    "coef = lr_model.coefficients\n",
    "intercept = lr_model.intercept\n",
    "\n",
    "print(\"Intercept:\", intercept)\n",
    "print(\"Num features:\", len(coef))\n",
    "\n",
    "# Ánh xạ tên feature ↔ hệ số\n",
    "feat_names = assembler.getInputCols()\n",
    "for name, c in zip(feat_names, coef):\n",
    "    print(f\"{name}: {c}\")\n"
   ]
  },
  {
   "cell_type": "code",
   "execution_count": 10,
   "id": "0aa78dc0-b3a4-4964-9dbf-20b1695ddd42",
   "metadata": {},
   "outputs": [
    {
     "name": "stdout",
     "output_type": "stream",
     "text": [
      "minutes_played: 0.3528378473070338\n",
      "age: 0.14815968635461313\n",
      "assists_per90: 0.11690636520681487\n",
      "goals_per90: 0.09895701039058205\n",
      "age_sq: 0.09593725393534952\n",
      "age_x_goals90: 0.09302035546779026\n",
      "prestige_overall: 0.050235588036173236\n",
      "position_ohe: 0.012042361395226953\n"
     ]
    }
   ],
   "source": [
    "rf_model = m_rf.stages[-1]  # RandomForestRegressionModel\n",
    "importances = rf_model.featureImportances.toArray()\n",
    "feat_names = assembler.getInputCols()\n",
    "\n",
    "# Sắp xếp top 10 feature quan trọng nhất\n",
    "pairs = sorted(zip(feat_names, importances), key=lambda x: x[1], reverse=True)\n",
    "for name, score in pairs[:10]:\n",
    "    print(f\"{name}: {score}\")\n"
   ]
  },
  {
   "cell_type": "code",
   "execution_count": 11,
   "id": "89a432d3-445a-45eb-9a46-f731f05ea500",
   "metadata": {},
   "outputs": [
    {
     "name": "stdout",
     "output_type": "stream",
     "text": [
      "  Saved both LR & RF models.\n"
     ]
    }
   ],
   "source": [
    "# Lưu Linear Regression model\n",
    "m_lr.write().overwrite().save(\"/home/jovyan/work/models/latest_fee_lr\")\n",
    " \n",
    "# Lưu Random Forest model\n",
    "m_rf.write().overwrite().save(\"/home/jovyan/work/models/latest_fee_rf\")\n",
    " \n",
    "print(\"  Saved both LR & RF models.\")"
   ]
  },
  {
   "cell_type": "code",
   "execution_count": 12,
   "id": "52809ee5-5c05-4662-8092-9766734e9a68",
   "metadata": {},
   "outputs": [
    {
     "name": "stdout",
     "output_type": "stream",
     "text": [
      "+----------+-----------------+----------+----------+------------------+\n",
      "|player_key|             name|  position|latest_fee|          pred_fee|\n",
      "+----------+-----------------+----------+----------+------------------+\n",
      "|     17575|      myrto uzuni|    Attack| 4000000.0| 2713297.843587306|\n",
      "|     18265|       lucas boyé|    Attack| 7000000.0| 4281333.527637985|\n",
      "|     20807|      sergio ruiz|  Midfield| 1000000.0| 895186.9310708274|\n",
      "|     21009|   gonzalo villar|  Midfield| 1800000.0| 1796018.690053673|\n",
      "|     21029|    martin hongla|  Midfield| 2700000.0| 2580514.592509783|\n",
      "|     16877|  mikkel kallesøe|  Defender|  335000.0| 485545.4411276593|\n",
      "|     19938|      ivor pandur|Goalkeeper| 2000000.0|1864514.6596754778|\n",
      "|     25313|  million manhoef|    Attack| 4000000.0| 1519616.356680397|\n",
      "|     29042|eric-junior bocat|  Defender| 1200000.0|1236471.3835932168|\n",
      "|       645|    jonas hofmann|  Midfield|     1.0E7| 6935216.866136171|\n",
      "+----------+-----------------+----------+----------+------------------+\n",
      "only showing top 10 rows\n",
      "\n"
     ]
    }
   ],
   "source": [
    "# Tạo cột dự đoán (pred_fee) từ mô hình Random Forest (hoặc Linear cũng được)\n",
    "pred_rf_full = m_rf.transform(df) \\\n",
    "\t.withColumn(\"pred_fee\", F.expm1(\"prediction\")) \\\n",
    "\t.select(\"player_key\", \"name\", \"position\", \"latest_fee\", \"pred_fee\")  # giữ cột cần thiết\n",
    " \n",
    "pred_rf_full.show(10)\n"
   ]
  },
  {
   "cell_type": "code",
   "execution_count": 13,
   "id": "7d71d365-719a-4349-9916-c40aecbeff52",
   "metadata": {},
   "outputs": [
    {
     "name": "stdout",
     "output_type": "stream",
     "text": [
      "+----------+-----------------+----------+----------+------------------+\n",
      "|player_key|             name|  position|latest_fee|          pred_fee|\n",
      "+----------+-----------------+----------+----------+------------------+\n",
      "|     17575|      myrto uzuni|    Attack| 4000000.0| 2713297.843587306|\n",
      "|     18265|       lucas boyé|    Attack| 7000000.0| 4281333.527637985|\n",
      "|     20807|      sergio ruiz|  Midfield| 1000000.0| 895186.9310708274|\n",
      "|     21009|   gonzalo villar|  Midfield| 1800000.0| 1796018.690053673|\n",
      "|     21029|    martin hongla|  Midfield| 2700000.0| 2580514.592509783|\n",
      "|     16877|  mikkel kallesøe|  Defender|  335000.0| 485545.4411276593|\n",
      "|     19938|      ivor pandur|Goalkeeper| 2000000.0|1864514.6596754778|\n",
      "|     25313|  million manhoef|    Attack| 4000000.0| 1519616.356680397|\n",
      "|     29042|eric-junior bocat|  Defender| 1200000.0|1236471.3835932168|\n",
      "|       645|    jonas hofmann|  Midfield|     1.0E7| 6935216.866136171|\n",
      "+----------+-----------------+----------+----------+------------------+\n",
      "only showing top 10 rows\n",
      "\n"
     ]
    }
   ],
   "source": [
    "# Tạo cột dự đoán (pred_fee) từ mô hình Random Forest \n",
    "pred_rf_full = m_rf.transform(df) \\\n",
    "\t.withColumn(\"pred_fee\", F.expm1(\"prediction\")) \\\n",
    "\t.select(\"player_key\", \"name\", \"position\", \"latest_fee\", \"pred_fee\")  # giữ cột cần thiết\n",
    " \n",
    "pred_rf_full.show(10)\n"
   ]
  },
  {
   "cell_type": "code",
   "execution_count": 14,
   "id": "ea115679-4a20-48e6-8ccb-8783095b34c9",
   "metadata": {},
   "outputs": [
    {
     "name": "stdout",
     "output_type": "stream",
     "text": [
      "  Saved top 50 highest predicted players to CSV.\n"
     ]
    }
   ],
   "source": [
    "top50 = (pred_rf_full\n",
    "     \t.orderBy(F.desc(\"pred_fee\"))\n",
    "     \t.limit(50)\n",
    "     \t.toPandas())\n",
    " \n",
    "# Lưu file CSV\n",
    "top50.to_csv(\"/home/jovyan/work/models/top50_pred.csv\", index=False)\n",
    " \n",
    "print(\"  Saved top 50 highest predicted players to CSV.\")\n"
   ]
  },
  {
   "cell_type": "code",
   "execution_count": null,
   "id": "55788f49-fd58-4f7b-adf3-a979282314ba",
   "metadata": {},
   "outputs": [],
   "source": []
  }
 ],
 "metadata": {
  "kernelspec": {
   "display_name": "Python 3 (ipykernel)",
   "language": "python",
   "name": "python3"
  },
  "language_info": {
   "codemirror_mode": {
    "name": "ipython",
    "version": 3
   },
   "file_extension": ".py",
   "mimetype": "text/x-python",
   "name": "python",
   "nbconvert_exporter": "python",
   "pygments_lexer": "ipython3",
   "version": "3.11.6"
  }
 },
 "nbformat": 4,
 "nbformat_minor": 5
}
